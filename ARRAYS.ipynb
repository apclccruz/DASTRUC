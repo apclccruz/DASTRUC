{
  "nbformat": 4,
  "nbformat_minor": 0,
  "metadata": {
    "colab": {
      "provenance": [],
      "authorship_tag": "ABX9TyOnroFG42dJDQV7BRctdm0d",
      "include_colab_link": true
    },
    "kernelspec": {
      "name": "python3",
      "display_name": "Python 3"
    },
    "language_info": {
      "name": "python"
    }
  },
  "cells": [
    {
      "cell_type": "markdown",
      "metadata": {
        "id": "view-in-github",
        "colab_type": "text"
      },
      "source": [
        "<a href=\"https://colab.research.google.com/github/apclccruz/DASTRUC/blob/main/ARRAYS.ipynb\" target=\"_parent\"><img src=\"https://colab.research.google.com/assets/colab-badge.svg\" alt=\"Open In Colab\"/></a>"
      ]
    },
    {
      "cell_type": "code",
      "execution_count": null,
      "metadata": {
        "colab": {
          "base_uri": "https://localhost:8080/"
        },
        "id": "QtUy25nFBzY_",
        "outputId": "89cdaaa4-d09f-405e-de79-f82dd7f2af09"
      },
      "outputs": [
        {
          "output_type": "stream",
          "name": "stdout",
          "text": [
            "1 - C\n",
            "2 - R\n",
            "3 - U\n",
            "4 - Z\n",
            "AUTHOR: LATRELL ALLEN CRUZ\n"
          ]
        }
      ],
      "source": [
        "import array as arr\n",
        "\n",
        "a = arr.array('u', ['C', 'R', 'U', 'Z'])\n",
        "\n",
        "letter_dict = {}\n",
        "for i in range(len(a)):\n",
        "    letter_dict[i + 1] = a[i]\n",
        "\n",
        "\n",
        "for index in range(1, len(a) + 1):\n",
        "    print(f\"{index} - {letter_dict[index]}\")\n",
        "\n",
        "print(\"AUTHOR: LATRELL ALLEN CRUZ\")"
      ]
    },
    {
      "cell_type": "code",
      "source": [
        "import array as arr\n",
        "\n",
        "a = arr.array('u', ['C', 'R', 'U', 'Z'])\n",
        "\n",
        "letter_dict = {}\n",
        "for i in range(len(a)):\n",
        "    letter_dict[i + 1] = a[i]\n",
        "\n",
        "print(\"First element is:\", letter_dict[1])\n",
        "print(\"Second element is:\", letter_dict[2])\n",
        "print(\"Third element is:\", letter_dict[3])\n",
        "print(\"Fourth element is:\", letter_dict[4])\n",
        "print(\"last element is:\", letter_dict[len(a)])\n",
        "print(\"Second last element is:\", letter_dict[len(a) - 1])\n",
        "print(\"Third last element is:\", letter_dict[len(a) - 2])\n",
        "\n",
        "\n",
        "print(\"First element is:\", letter_dict[1])\n",
        "\n",
        "\n",
        "for i in range(1, len(a) + 1):\n",
        "    print(letter_dict[i], end=\" \")\n",
        "print()\n",
        "print(\"AUTHOR: LATRELL ALLEN CRUZ\")"
      ],
      "metadata": {
        "colab": {
          "base_uri": "https://localhost:8080/"
        },
        "id": "eakM7a5yCfRY",
        "outputId": "75f7caa2-677e-441e-8b3d-9389d1b5e0e0"
      },
      "execution_count": null,
      "outputs": [
        {
          "output_type": "stream",
          "name": "stdout",
          "text": [
            "First element is: C\n",
            "Second element is: R\n",
            "Third element is: U\n",
            "Fourth element is: Z\n",
            "last element is: Z\n",
            "Second last element is: U\n",
            "Third last element is: R\n",
            "First element is: C\n",
            "C R U Z \n",
            "AUTHOR: LATRELL ALLEN CRUZ\n"
          ]
        }
      ]
    },
    {
      "cell_type": "code",
      "source": [
        "import array as arr\n",
        "\n",
        "a = arr.array('u', ['C', 'R', 'U', 'Z'])\n",
        "\n",
        "letter_dict = {}\n",
        "for i in range(len(a)):\n",
        "    letter_dict[i + 1] = a[i]\n",
        "\n",
        "for index in range(1, len(a) + 1):\n",
        "    print(f\"{index} - {letter_dict[index]}\")\n",
        "\n",
        "length = len(a)\n",
        "\n",
        "print(\"The length of the array is:\", length)\n",
        "print(\"AUTHOR: LATRELL ALLEN CRUZ\")\n",
        "\n"
      ],
      "metadata": {
        "colab": {
          "base_uri": "https://localhost:8080/"
        },
        "id": "_RmFpJGUFtNC",
        "outputId": "088b370f-fff2-4be5-b771-c7cfa7d0da1d"
      },
      "execution_count": null,
      "outputs": [
        {
          "output_type": "stream",
          "name": "stdout",
          "text": [
            "1 - C\n",
            "2 - R\n",
            "3 - U\n",
            "4 - Z\n",
            "The length of the array is: 4\n",
            "AUTHOR: LATRELL ALLEN CRUZ\n"
          ]
        }
      ]
    }
  ]
}